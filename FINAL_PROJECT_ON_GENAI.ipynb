{
  "nbformat": 4,
  "nbformat_minor": 0,
  "metadata": {
    "colab": {
      "provenance": [],
      "authorship_tag": "ABX9TyOVNNNh/3ibLw98jfR51yeE",
      "include_colab_link": true
    },
    "kernelspec": {
      "name": "python3",
      "display_name": "Python 3"
    },
    "language_info": {
      "name": "python"
    }
  },
  "cells": [
    {
      "cell_type": "markdown",
      "metadata": {
        "id": "view-in-github",
        "colab_type": "text"
      },
      "source": [
        "<a href=\"https://colab.research.google.com/github/KaranjaideepSingh4358130/GenAI/blob/main/FINAL_PROJECT_ON_GENAI.ipynb\" target=\"_parent\"><img src=\"https://colab.research.google.com/assets/colab-badge.svg\" alt=\"Open In Colab\"/></a>"
      ]
    },
    {
      "cell_type": "markdown",
      "source": [
        "# TITLE: GENAI PROJECT USING REPLICATE FOR IMAGE AND GIF GENERATION\n",
        "## SCOPE OF THE PROJECT\n",
        "The Replicate technology will be used in this GENAI Project to generate sophisticated images and GIFs. It aims to generate high-fidelity visual material with amazing realism and variety, such as photos and animated GIFs, using deep learning algorithms. The project's scope includes creating state-of-the-art models, maximizing computational effectiveness, and investigating applications in a variety of fields, such as digital media, design, and entertainment."
      ],
      "metadata": {
        "id": "uAhGBBGLE6Zm"
      }
    },
    {
      "cell_type": "markdown",
      "source": [
        "#Group Member:\n",
        "# NAME: Karanjaideep Singh\n",
        "# STUDENT ID: 4358130"
      ],
      "metadata": {
        "id": "njcvk-q5FhJb"
      }
    },
    {
      "cell_type": "markdown",
      "source": [
        "# Detailed Project Description\n",
        "Replicate technology is used by the GENAI Project to make new images and GIFs. It uses deep learning to make realistic and varied high-quality graphic material. The project's main goals are to create more complex models, make computers work more efficiently, and look into how they can be used in fun, design, and digital media.\n",
        "\n",
        "# Objectives\n",
        "1. Create cutting-edge deep learning models for making images and GIFs. These are the goals of the GENAI Project.\n",
        "2. Make the computer as efficient as possible so that creation can happen in real time or very close to real time.\n",
        "3. Look into the different ways it can be used in design, fun, and digital media.\n",
        "4. Get high-quality and varied product to meet the needs of different artistic fields and businesses.\n",
        "5. Keep coming up with new ideas and making the technology better to stay on top of creative AI.\n",
        "\n",
        "\n",
        "# Expected Outcomes\n",
        "1. More advanced deep learning models that can create realistic and varied high-quality pictures and GIFs.\n",
        "2. Made computers more efficient, which lets them generate in real time or almost real time.\n",
        "3. Many uses in entertainment, fashion, and digital media, which leads to new ways of making material.\n",
        "4. The result is very high quality and can be used in many artistic projects and businesses.\n",
        "5. New ideas and better versions of creative AI technology are always being made."
      ],
      "metadata": {
        "id": "clJ6qm3WFtdo"
      }
    },
    {
      "cell_type": "markdown",
      "source": [
        "# Modification/New Addition Specification\n",
        "\n",
        "1. Installing and using the AI client again\n",
        "1. Use '!pip install' to install the tools we need.\n",
        "2. Get an API token from our Replicate AI account.\n",
        "3. Make a ReplicateClient object in our Colab notebook and pass an API code as an input.\n",
        "4. Make new suggestions for jobs that require making images or GIFs.\n",
        "5. For calls to make images or GIFs, use the ReplicateClient object.\n",
        "7. Show generated pictures or GIFs in the Colab notebook so that they can be seen and analyzed.\n",
        "\n",
        "# Justification of their importance\n",
        "1. Putting in the library for making images and GIFs.\n",
        "2. Getting the API token and using it for safe login.\n",
        "3. Making sure that only people who are allowed to can access Replicate AI.\n",
        "4. Making unique questions to give the project more freedom.\n",
        "5. Sending creation requests to start the AI process.\n",
        "6. Saving the created pictures or GIFs for later use.\n",
        "7. Showing created images in the notebook can make it easier to see and use for projects.\n",
        "\n"
      ],
      "metadata": {
        "id": "L4gvHtT9Hi0p"
      }
    },
    {
      "cell_type": "markdown",
      "source": [
        "# Criteria-Specific\n",
        "\n",
        "##Relevance\n",
        "1. Encourages Creative Expression: Gives artists a place to try out new visual ideas and make a wide range of material.\n",
        "2. Makes Content Production Easier: It makes it easy to make high-quality pictures and GIFs that can be used in advertising, fun, and marketing digital content.\n",
        "3. Helps advance AI by adding Replicate AI's features to Google Colab, which pushes the limits of AI-powered content creation.\n",
        "4. Makes the user experience better by letting them make unique material that can be used on multiple platforms and apps.\n",
        "5. Has Educational Value: It can be used as a teaching tool to learn about AI-driven picture creation methods.\n",
        "\n",
        "\n",
        "##Application\n",
        "\n",
        "1. Fun: Makes images for video games, movies, and virtual reality experiences.\n",
        "2. Marketing and advertising: Makes eye-catching images for ads, campaigns, and social media posts.\n",
        "3. Design and Fashion: Makes pictures for concept art, visual marketing, and product samples.\n",
        "4. Education and Training: Presentations, e-learning tools, and training exercises can all use created pictures and GIFs.\n",
        "5. Digital Art and Creative Projects: Learns about new art styles and tries out different ways to tell stories visually.\n",
        "6. Research and Development: Uses it to show facts, draw science pictures, and be creative with computers.\n",
        "\n",
        "\n",
        "## Innovation\n",
        "1. Use of Advanced Generative Models: makes high-quality pictures and GIFs by using advanced deep learning models.\n",
        "2. Real-Time Generation: This feature makes the most of computers' power to make visual material quickly and easily.\n",
        "3. Personalized Content Creation: Allows users to make visual content that is unique to them based on their wants and needs.\n",
        "4. Cross-Domain Applications: These show how AI-driven content creation can be used in a wide range of artistic and business areas.\n",
        "5. Collaborative Innovation: Adds Replicate AI's features to Google Colab, which encourages researchers, developers, and artists to share what they know.\n",
        "\n",
        "## Technical Proficiency\n",
        "1. AI and Machine Learning: making use of powerful deep learning models and algorithms to make images.\n",
        "2. API Integration: Adding third-party APIs to software programs so that they can use services from outside the program.\n",
        "3. Programming Skills: You should know how to use Python, TensorFlow, NumPy, and cloud computing tools well.\n",
        "4. Handling and preparing Data: Taking care of and preparing big datasets so that AI models can be trained.\n",
        "5. Performance Optimization: Making code and methods work better so that they use less computing power.\n",
        "6. Error Handling and Debugging: Fixing bugs and mistakes in code is called error handling and debugging.\n",
        "\n"
      ],
      "metadata": {
        "id": "KxPKmHBCIHJS"
      }
    },
    {
      "cell_type": "markdown",
      "source": [
        "# **GenAI**"
      ],
      "metadata": {
        "id": "apd8XR-fJtl7"
      }
    },
    {
      "cell_type": "markdown",
      "source": [
        "#Install Replicate:\n",
        " Installs the Replicate AI client library using pip for accessing its functionalities."
      ],
      "metadata": {
        "id": "e3uRcWuCGB-X"
      }
    },
    {
      "cell_type": "code",
      "source": [
        "# @title Install Replicate\n",
        "!pip install replicate"
      ],
      "metadata": {
        "colab": {
          "base_uri": "https://localhost:8080/"
        },
        "id": "AZUIsQYnKCMB",
        "outputId": "0d67acb7-2039-4c75-c3db-7e3123b47b97"
      },
      "execution_count": 1,
      "outputs": [
        {
          "output_type": "stream",
          "name": "stdout",
          "text": [
            "Collecting replicate\n",
            "  Downloading replicate-0.25.1-py3-none-any.whl (39 kB)\n",
            "Collecting httpx<1,>=0.21.0 (from replicate)\n",
            "  Downloading httpx-0.27.0-py3-none-any.whl (75 kB)\n",
            "\u001b[2K     \u001b[90m━━━━━━━━━━━━━━━━━━━━━━━━━━━━━━━━━━━━━━━━\u001b[0m \u001b[32m75.6/75.6 kB\u001b[0m \u001b[31m3.3 MB/s\u001b[0m eta \u001b[36m0:00:00\u001b[0m\n",
            "\u001b[?25hRequirement already satisfied: packaging in /usr/local/lib/python3.10/dist-packages (from replicate) (24.0)\n",
            "Requirement already satisfied: pydantic>1.10.7 in /usr/local/lib/python3.10/dist-packages (from replicate) (2.6.4)\n",
            "Requirement already satisfied: typing-extensions>=4.5.0 in /usr/local/lib/python3.10/dist-packages (from replicate) (4.10.0)\n",
            "Requirement already satisfied: anyio in /usr/local/lib/python3.10/dist-packages (from httpx<1,>=0.21.0->replicate) (3.7.1)\n",
            "Requirement already satisfied: certifi in /usr/local/lib/python3.10/dist-packages (from httpx<1,>=0.21.0->replicate) (2024.2.2)\n",
            "Collecting httpcore==1.* (from httpx<1,>=0.21.0->replicate)\n",
            "  Downloading httpcore-1.0.5-py3-none-any.whl (77 kB)\n",
            "\u001b[2K     \u001b[90m━━━━━━━━━━━━━━━━━━━━━━━━━━━━━━━━━━━━━━━━\u001b[0m \u001b[32m77.9/77.9 kB\u001b[0m \u001b[31m6.5 MB/s\u001b[0m eta \u001b[36m0:00:00\u001b[0m\n",
            "\u001b[?25hRequirement already satisfied: idna in /usr/local/lib/python3.10/dist-packages (from httpx<1,>=0.21.0->replicate) (3.6)\n",
            "Requirement already satisfied: sniffio in /usr/local/lib/python3.10/dist-packages (from httpx<1,>=0.21.0->replicate) (1.3.1)\n",
            "Collecting h11<0.15,>=0.13 (from httpcore==1.*->httpx<1,>=0.21.0->replicate)\n",
            "  Downloading h11-0.14.0-py3-none-any.whl (58 kB)\n",
            "\u001b[2K     \u001b[90m━━━━━━━━━━━━━━━━━━━━━━━━━━━━━━━━━━━━━━━━\u001b[0m \u001b[32m58.3/58.3 kB\u001b[0m \u001b[31m5.8 MB/s\u001b[0m eta \u001b[36m0:00:00\u001b[0m\n",
            "\u001b[?25hRequirement already satisfied: annotated-types>=0.4.0 in /usr/local/lib/python3.10/dist-packages (from pydantic>1.10.7->replicate) (0.6.0)\n",
            "Requirement already satisfied: pydantic-core==2.16.3 in /usr/local/lib/python3.10/dist-packages (from pydantic>1.10.7->replicate) (2.16.3)\n",
            "Requirement already satisfied: exceptiongroup in /usr/local/lib/python3.10/dist-packages (from anyio->httpx<1,>=0.21.0->replicate) (1.2.0)\n",
            "Installing collected packages: h11, httpcore, httpx, replicate\n",
            "Successfully installed h11-0.14.0 httpcore-1.0.5 httpx-0.27.0 replicate-0.25.1\n"
          ]
        }
      ]
    },
    {
      "cell_type": "markdown",
      "source": [
        "# Set API Token:\n",
        "Assigns the Replicate API token to the environment variable for authentication in Replicate AI's services."
      ],
      "metadata": {
        "id": "qqKK7AJpK0PL"
      }
    },
    {
      "cell_type": "code",
      "source": [
        "API = \"r8_9GWOerDzc6cjldwBWofSKLrx1vp0QZK2NqH1e\"\n",
        "import os\n",
        "\n",
        "os.environ[\"REPLICATE_API_TOKEN\"] = API #find it here: https://replicate.com/signin?next=/account/api-tokens"
      ],
      "metadata": {
        "id": "oqOL6vmuLFM7"
      },
      "execution_count": 2,
      "outputs": []
    },
    {
      "cell_type": "markdown",
      "source": [
        "# Generate Image:\n",
        "Utilizes Replicate AI to generate an image based on the provided prompt \"woman is holding an apple\"."
      ],
      "metadata": {
        "id": "TJS9QebfLJxP"
      }
    },
    {
      "cell_type": "code",
      "source": [
        "# @title Generate Image\n",
        "prompt = \"man is holding a dumbbell\"\n",
        "import replicate\n",
        "\n",
        "output = replicate.run(\n",
        "  \"stability-ai/stable-diffusion:27b93a2413e7f36cd83da926f3656280b2931564ff050bf9575f1fdf9bcd7478\",\n",
        "  input={\"prompt\":prompt}\n",
        ")\n",
        "\n",
        "output"
      ],
      "metadata": {
        "colab": {
          "base_uri": "https://localhost:8080/"
        },
        "id": "Q6L77P_nLRQz",
        "outputId": "a3fd8881-63f2-4b47-fa53-622761a6894b"
      },
      "execution_count": 3,
      "outputs": [
        {
          "output_type": "execute_result",
          "data": {
            "text/plain": [
              "['https://replicate.delivery/pbxt/52BCyXK65eTcF6bynFu5WRXfRac9y8KpiVRnWyVwm4CTIImSA/out-0.png']"
            ]
          },
          "metadata": {},
          "execution_count": 3
        }
      ]
    },
    {
      "cell_type": "markdown",
      "source": [
        "# Display Image:\n",
        "Displays the generated image using the IPython display module."
      ],
      "metadata": {
        "id": "upViVCgWLety"
      }
    },
    {
      "cell_type": "code",
      "source": [
        "from IPython.display import Image\n",
        "output_image = output\n",
        "Image(url=output_image[0])"
      ],
      "metadata": {
        "colab": {
          "base_uri": "https://localhost:8080/",
          "height": 534
        },
        "id": "PNwX_727LwJz",
        "outputId": "4ebfc602-2064-40dc-8100-a7213b3a41f1"
      },
      "execution_count": 4,
      "outputs": [
        {
          "output_type": "execute_result",
          "data": {
            "text/html": [
              "<img src=\"https://replicate.delivery/pbxt/52BCyXK65eTcF6bynFu5WRXfRac9y8KpiVRnWyVwm4CTIImSA/out-0.png\"/>"
            ],
            "text/plain": [
              "<IPython.core.display.Image object>"
            ]
          },
          "metadata": {},
          "execution_count": 4
        }
      ]
    },
    {
      "cell_type": "markdown",
      "source": [
        "# Video/gif/animation/Generation:\n",
        "Utilizes Replicate AI to create a GIF animation transitioning from \"woman is holding an apple\" to \"woman puts the apple on the table\"."
      ],
      "metadata": {
        "id": "XVBKRT3rNF2I"
      }
    },
    {
      "cell_type": "code",
      "source": [
        "# @title Video/gif/animation/Generation\n",
        "import replicate\n",
        "\n",
        "output = replicate.run(\n",
        "    \"andreasjansson/stable-diffusion-animation:ca1f5e306e5721e19c473e0d094e6603f0456fe759c10715fcd6c1b79242d4a5\",\n",
        "    input={\n",
        "        \"prompt_start\": \"man is holding a dumbbell\",\n",
        "        \"prompt_end\": \"man lifts the dubbell up\",\n",
        "        \"output_format\": \"gif\",\n",
        "        \"gif_ping_pong\": True\n",
        "    }\n",
        ")\n",
        "\n",
        "output"
      ],
      "metadata": {
        "colab": {
          "base_uri": "https://localhost:8080/"
        },
        "id": "rbipso-xNHed",
        "outputId": "49abed67-3a7c-4bda-8453-82992f12bb9c"
      },
      "execution_count": 9,
      "outputs": [
        {
          "output_type": "execute_result",
          "data": {
            "text/plain": [
              "<generator object Prediction.output_iterator at 0x7f8b5dec04a0>"
            ]
          },
          "metadata": {},
          "execution_count": 9
        }
      ]
    },
    {
      "cell_type": "markdown",
      "source": [
        "# Generate Video:\n",
        "Iterates through the output items and prints information about each, following the Replicate API output schema."
      ],
      "metadata": {
        "id": "MnU0mwr0NLsf"
      }
    },
    {
      "cell_type": "code",
      "source": [
        "# @title generate video\n",
        "for item in output:\n",
        "     #https://replicate.com/andreasjansson/stable-diffusion-animation/versions/ca1f5e306e5721e19c473e0d094e6603f0456fe759c10715fcd6c1b79242d4a5/api#output-schema\n",
        "    print(item)"
      ],
      "metadata": {
        "colab": {
          "base_uri": "https://localhost:8080/"
        },
        "id": "29xzrTkaNNJ9",
        "outputId": "a75f2179-72b5-4216-a74f-5999e7627da6"
      },
      "execution_count": 10,
      "outputs": [
        {
          "output_type": "stream",
          "name": "stdout",
          "text": [
            "https://replicate.delivery/pbxt/xrs6QCFGSm5gHhD2CMg6VeAruVlJPekQkEdBqVj1fn4VoQMlA/video.gif\n"
          ]
        }
      ]
    },
    {
      "cell_type": "markdown",
      "source": [
        "# Assign GIF URL:\n",
        "Assigns the URL of the generated GIF to the variable `gif_url`."
      ],
      "metadata": {
        "id": "nzOHRbgDNSOn"
      }
    },
    {
      "cell_type": "code",
      "source": [
        "# @title get the video on colab\n",
        "gif_url= item[0:len(item)]"
      ],
      "metadata": {
        "id": "S3GVi9JDNUbm"
      },
      "execution_count": 11,
      "outputs": []
    },
    {
      "cell_type": "markdown",
      "source": [
        "# Show the Video:\n",
        "Utilizes requests to fetch the generated GIF from the provided URL and displays it using the IPython display module. Additionally, saves and shows the GIF using PIL."
      ],
      "metadata": {
        "id": "BwYoWSHHNYxl"
      }
    },
    {
      "cell_type": "code",
      "source": [
        "# @title Show the video\n",
        "import requests\n",
        "from IPython.display import display, Image\n",
        "from PIL import Image as PILImage\n",
        "from io import BytesIO\n",
        "response = requests.get(gif_url)\n",
        "if response.status_code == 200:\n",
        "    # To Ddisplay the GIF in the notebook\n",
        "    display(Image(url=gif_url))\n",
        "\n",
        "    # To save the GIF in the Colab environment\n",
        "    with open(\"gif_output.gif\", \"wb\") as f:\n",
        "        f.write(response.content)\n",
        "\n",
        "    # TO show a saved GIF using PIL\n",
        "    saved_gif = PILImage.open(\"gif_output.gif\")\n",
        "    saved_gif.show()\n",
        "else:\n",
        "    print(\"Failed to fetch GIF\")"
      ],
      "metadata": {
        "colab": {
          "base_uri": "https://localhost:8080/",
          "height": 534
        },
        "id": "V6UdjXWRNXqB",
        "outputId": "f305f6cc-f3d3-41c2-e89d-baa16b59b311"
      },
      "execution_count": 12,
      "outputs": [
        {
          "output_type": "display_data",
          "data": {
            "text/html": [
              "<img src=\"https://replicate.delivery/pbxt/xrs6QCFGSm5gHhD2CMg6VeAruVlJPekQkEdBqVj1fn4VoQMlA/video.gif\"/>"
            ],
            "text/plain": [
              "<IPython.core.display.Image object>"
            ]
          },
          "metadata": {}
        }
      ]
    },
    {
      "cell_type": "markdown",
      "source": [
        "\n",
        "\n",
        "---\n",
        "\n"
      ],
      "metadata": {
        "id": "scBMUGBmSVuz"
      }
    },
    {
      "cell_type": "markdown",
      "source": [
        "# **REFERENCES**\n",
        "* Replicate API Tokens. https://replicate.com/account/api-tokens\n",
        "* Python Learning. https://docs.python.org/3/index.html\n",
        "* Text-2-Video Generation: KDnuggets. https://www.kdnuggets.com/2023/08/text2video-generation-stepbystep-guide.html\n",
        "* Google Colab. https://colab.google/\n",
        "* Explore replicate.  https://replicate.com/explore"
      ],
      "metadata": {
        "id": "qFSvzOXpPTiy"
      }
    },
    {
      "cell_type": "markdown",
      "source": [
        "# VIDEO PRESENTATION OF THE PROJECT\n"
      ],
      "metadata": {
        "id": "sW7uqc4RSN9F"
      }
    },
    {
      "cell_type": "markdown",
      "source": [
        "THANK YOU\n",
        "\n",
        "---\n",
        "\n"
      ],
      "metadata": {
        "id": "t3bzhRstSTLa"
      }
    }
  ]
}